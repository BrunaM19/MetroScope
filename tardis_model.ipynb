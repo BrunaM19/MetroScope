{
 "cells": [
  {
   "cell_type": "code",
   "execution_count": 1,
   "metadata": {},
   "outputs": [
    {
     "name": "stdout",
     "output_type": "stream",
     "text": [
      "RMSE: 13.88096960373666\n",
      "R²: -0.0969490620622413\n"
     ]
    },
    {
     "data": {
      "text/plain": [
       "['delay_predictor.pkl']"
      ]
     },
     "execution_count": 1,
     "metadata": {},
     "output_type": "execute_result"
    }
   ],
   "source": [
    "# Import necessary libraries\n",
    "import pandas as pd\n",
    "from sklearn.model_selection import train_test_split\n",
    "from sklearn.ensemble import RandomForestRegressor\n",
    "from sklearn.compose import ColumnTransformer\n",
    "from sklearn.preprocessing import OneHotEncoder\n",
    "from sklearn.pipeline import Pipeline\n",
    "from sklearn.metrics import mean_squared_error, r2_score\n",
    "from sklearn.impute import SimpleImputer\n",
    "import joblib\n",
    "\n",
    "# Load the cleaned dataset\n",
    "df = pd.read_csv(\"cleaned_dataset.csv\")\n",
    "\n",
    "# Define features (X) and target variable (y)\n",
    "x = df[[\"departure_station\", \"arrival_station\", \"month\", \"year\"]]\n",
    "y = df[\"average_delay_of_all_trains_at_arrival\"]\n",
    "\n",
    "# Specify categorical columns for encoding\n",
    "categorical = [\"departure_station\", \"arrival_station\"]\n",
    "\n",
    "# Create a preprocessor to handle categorical and numerical data\n",
    "preprocessor = ColumnTransformer([\n",
    "    # One-hot encode the categorical features\n",
    "    (\"cat\", OneHotEncoder(handle_unknown=\"ignore\"), categorical),\n",
    "    # Impute missing values in numerical features with the mean\n",
    "    (\"num\", SimpleImputer(strategy=\"mean\"), [\"month\", \"year\"])\n",
    "], remainder=\"passthrough\")  # Keep any remaining columns as they are\n",
    "\n",
    "# Build a pipeline that first preprocesses the data and then applies the model\n",
    "model = Pipeline([\n",
    "    (\"preprocessor\", preprocessor),\n",
    "    (\"regressor\", RandomForestRegressor(n_estimators=100, random_state=42))  # Random forest with 100 trees\n",
    "])\n",
    "\n",
    "# Split the data into training and test sets (80% train, 20% test)\n",
    "X_train, X_test, y_train, y_test = train_test_split(x, y, test_size=0.2, random_state=42)\n",
    "\n",
    "# Train the pipeline on the training data\n",
    "model.fit(X_train, y_train)\n",
    "\n",
    "# Make predictions on the test data\n",
    "pred = model.predict(X_test)\n",
    "\n",
    "# Evaluate the model\n",
    "mse = mean_squared_error(y_test, pred)  # Mean Squared Error\n",
    "rmse = mse ** 0.5                      # Root Mean Squared Error\n",
    "print(\"RMSE:\", rmse)\n",
    "print(\"R²:\", r2_score(y_test, pred))   # R-squared score\n",
    "\n",
    "# Save the trained model to a file\n",
    "joblib.dump(model, \"delay_predictor.pkl\")"
   ]
  },
  {
   "cell_type": "code",
   "execution_count": null,
   "metadata": {},
   "outputs": [],
   "source": []
  }
 ],
 "metadata": {
  "kernelspec": {
   "display_name": "Python 3 (ipykernel)",
   "language": "python",
   "name": "python3"
  },
  "language_info": {
   "codemirror_mode": {
    "name": "ipython",
    "version": 3
   },
   "file_extension": ".py",
   "mimetype": "text/x-python",
   "name": "python",
   "nbconvert_exporter": "python",
   "pygments_lexer": "ipython3",
   "version": "3.13.2"
  }
 },
 "nbformat": 4,
 "nbformat_minor": 4
}
